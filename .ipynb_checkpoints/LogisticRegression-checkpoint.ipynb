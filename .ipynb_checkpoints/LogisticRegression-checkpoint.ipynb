{
 "cells": [
  {
   "cell_type": "markdown",
   "metadata": {},
   "source": [
    "## 调用scikit-learn训练回归模型"
   ]
  },
  {
   "cell_type": "code",
   "execution_count": 1,
   "metadata": {
    "collapsed": true
   },
   "outputs": [],
   "source": [
    "%matplotlib inline\n",
    "import numpy as np\n",
    "from sklearn import datasets\n",
    "from plot_decision_region import plot_decision_region\n",
    "import matplotlib.pyplot as plt"
   ]
  },
  {
   "cell_type": "code",
   "execution_count": 2,
   "metadata": {
    "collapsed": true
   },
   "outputs": [],
   "source": [
    "iris = datasets.load_iris()\n",
    "x = iris.data[:, [2, 3]]\n",
    "y = iris.target"
   ]
  },
  {
   "cell_type": "code",
   "execution_count": 3,
   "metadata": {
    "collapsed": true
   },
   "outputs": [],
   "source": [
    "# 使用train_test_split方法将数据集分割成两部分,训练集合测试集\n",
    "from sklearn.model_selection import train_test_split\n",
    "x_train, x_test, y_train, y_test = train_test_split(x, y, test_size=0.3, random_state=0)"
   ]
  },
  {
   "cell_type": "code",
   "execution_count": 4,
   "metadata": {
    "collapsed": true
   },
   "outputs": [],
   "source": [
    "# 使用StandardScaler方法来对数据进行标准化\n",
    "from sklearn.preprocessing import StandardScaler\n",
    "sc = StandardScaler()\n",
    "# 使用fit方法计算出u(样本平均值)和标准差,然后调用transform方法对数据集进行标准化,使用相同的参数对训练集和测试集进行标准化\n",
    "sc.fit(x_train)\n",
    "x_train_std = sc.transform(x_train)\n",
    "x_test_std = sc.transform(x_test)"
   ]
  },
  {
   "cell_type": "code",
   "execution_count": 5,
   "metadata": {
    "collapsed": true
   },
   "outputs": [],
   "source": [
    "# 组合数据\n",
    "x_combined_std = np.vstack((x_train_std, x_test_std))\n",
    "y_combined = np.hstack((y_train, y_test))"
   ]
  },
  {
   "cell_type": "code",
   "execution_count": 6,
   "metadata": {
    "collapsed": true
   },
   "outputs": [],
   "source": [
    "# 导入模块\n",
    "from sklearn.linear_model import LogisticRegression"
   ]
  },
  {
   "cell_type": "code",
   "execution_count": 7,
   "metadata": {},
   "outputs": [
    {
     "data": {
      "text/plain": [
       "LogisticRegression(C=1000.0, class_weight=None, dual=False,\n",
       "          fit_intercept=True, intercept_scaling=1, max_iter=100,\n",
       "          multi_class='ovr', n_jobs=1, penalty='l2', random_state=0,\n",
       "          solver='liblinear', tol=0.0001, verbose=0, warm_start=False)"
      ]
     },
     "execution_count": 7,
     "metadata": {},
     "output_type": "execute_result"
    }
   ],
   "source": [
    "# 初始化\n",
    "lr = LogisticRegression(C=1000.0, random_state=0)\n",
    "lr.fit(x_train_std, y_train)"
   ]
  },
  {
   "cell_type": "code",
   "execution_count": 8,
   "metadata": {},
   "outputs": [
    {
     "data": {
      "image/png": "[encoded data removed]",
      "text/plain": [
       "<matplotlib.figure.Figure at 0x10ef50400>"
      ]
     },
     "metadata": {},
     "output_type": "display_data"
    }
   ],
   "source": [
    "plot_decision_region(x_combined_std, y_combined, classifier=lr, test_idx=range(105, 150))\n",
    "plt.xlabel('petal length [standardized]')\n",
    "plt.ylabel('petal width [standardized]')\n",
    "plt.legend(loc='upper left')\n",
    "plt.show()"
   ]
  },
  {
   "cell_type": "markdown",
   "metadata": {},
   "source": [
    "对数据进行预测"
   ]
  },
  {
   "cell_type": "code",
   "execution_count": 9,
   "metadata": {},
   "outputs": [
    {
     "data": {
      "text/plain": [
       "array([[2.05743774e-11, 6.31620264e-02, 9.36837974e-01],\n",
       "       [6.08753106e-04, 9.99285569e-01, 1.05678028e-04],\n",
       "       [8.16962653e-01, 1.83037347e-01, 6.48299403e-14],\n",
       "       [1.60866539e-11, 4.14084479e-01, 5.85915521e-01],\n",
       "       [8.00231776e-01, 1.99768224e-01, 1.07576258e-13],\n",
       "       [2.03283749e-13, 1.38353563e-01, 8.61646437e-01],\n",
       "       [8.64726967e-01, 1.35273033e-01, 9.27705289e-14],\n",
       "       [4.92680691e-07, 7.61844645e-01, 2.38154862e-01],\n",
       "       [6.63326495e-07, 8.43292211e-01, 1.56707126e-01],\n",
       "       [8.06447009e-05, 9.97737477e-01, 2.18187798e-03],\n",
       "       [9.03984802e-09, 4.62107297e-01, 5.37892694e-01],\n",
       "       [1.54213753e-06, 8.75626483e-01, 1.24371975e-01],\n",
       "       [5.21240195e-06, 9.81860065e-01, 1.81347231e-02],\n",
       "       [8.78337572e-07, 8.24894420e-01, 1.75104701e-01],\n",
       "       [1.13609831e-06, 8.90634747e-01, 1.09364117e-01],\n",
       "       [7.63277074e-01, 2.36722926e-01, 4.48028267e-14],\n",
       "       [1.54213753e-06, 8.75626483e-01, 1.24371975e-01],\n",
       "       [2.17883410e-05, 9.95361393e-01, 4.61681913e-03],\n",
       "       [8.50297533e-01, 1.49702467e-01, 1.54539513e-13],\n",
       "       [8.92312846e-01, 1.07687154e-01, 2.19265907e-13],\n",
       "       [1.36185935e-09, 1.37889641e-01, 8.62110357e-01],\n",
       "       [1.54213753e-06, 8.75626483e-01, 1.24371975e-01],\n",
       "       [7.30041284e-01, 2.69958716e-01, 8.08556048e-13],\n",
       "       [8.16962653e-01, 1.83037347e-01, 6.48299403e-14],\n",
       "       [1.31849235e-08, 2.33504838e-01, 7.66495148e-01],\n",
       "       [8.76597816e-01, 1.23402184e-01, 8.44713225e-15],\n",
       "       [8.03965919e-01, 1.96034081e-01, 4.68344939e-12],\n",
       "       [1.77840766e-05, 9.92031267e-01, 7.95094912e-03],\n",
       "       [1.90628534e-02, 9.80932392e-01, 4.75462295e-06],\n",
       "       [8.52060302e-01, 1.47939698e-01, 1.01852930e-12],\n",
       "       [5.05675088e-10, 3.05943312e-01, 6.94056688e-01],\n",
       "       [1.54213753e-06, 8.75626483e-01, 1.24371975e-01],\n",
       "       [8.00231776e-01, 1.99768224e-01, 1.07576258e-13],\n",
       "       [7.81877559e-09, 2.32190155e-01, 7.67809837e-01],\n",
       "       [1.29757333e-11, 1.74476679e-01, 8.25523321e-01],\n",
       "       [7.17765160e-05, 9.95828460e-01, 4.09976396e-03],\n",
       "       [8.02288088e-01, 1.97711912e-01, 7.09140126e-13],\n",
       "       [1.75748033e-08, 3.82812098e-01, 6.17187884e-01],\n",
       "       [7.84804343e-06, 9.60367415e-01, 3.96247367e-02],\n",
       "       [1.54998206e-04, 9.99065670e-01, 7.79331753e-04],\n",
       "       [4.48901735e-11, 1.93094174e-01, 8.06905826e-01],\n",
       "       [8.33068956e-01, 1.66931044e-01, 3.90241396e-14],\n",
       "       [4.74332140e-11, 8.17822383e-02, 9.18217762e-01],\n",
       "       [9.06082741e-01, 9.39172591e-02, 5.70722898e-12],\n",
       "       [8.00231776e-01, 1.99768224e-01, 1.07576258e-13]])"
      ]
     },
     "execution_count": 9,
     "metadata": {},
     "output_type": "execute_result"
    }
   ],
   "source": [
    "# 预测三种鸢尾花的概率\n",
    "lr.predict_proba(x_test_std[0:])"
   ]
  },
  {
   "cell_type": "markdown",
   "metadata": {
    "collapsed": true
   },
   "source": [
    "## 使用正则化解决过拟合问题"
   ]
  },
  {
   "cell_type": "markdown",
   "metadata": {},
   "source": [
    "正则化背后的原理就是引入额外的信息(偏差)来惩罚过大的权重参数"
   ]
  },
  {
   "cell_type": "code",
   "execution_count": 10,
   "metadata": {
    "collapsed": true
   },
   "outputs": [],
   "source": [
    "weights, params = [], []"
   ]
  },
  {
   "cell_type": "code",
   "execution_count": 15,
   "metadata": {},
   "outputs": [],
   "source": [
    "for c in np.arange(-5, 5, dtype=float):\n",
    "    lr = LogisticRegression(C=10**c, random_state=0)\n",
    "    lr.fit(x_train_std, y_train)\n",
    "    weights.append(lr.coef_[1])\n",
    "    params.append(10**c)"
   ]
  },
  {
   "cell_type": "code",
   "execution_count": 16,
   "metadata": {
    "collapsed": true
   },
   "outputs": [],
   "source": [
    "weights = np.array(weights)"
   ]
  },
  {
   "cell_type": "code",
   "execution_count": 21,
   "metadata": {},
   "outputs": [
    {
     "data": {
      "image/png": "[encoded data removed]",
      "text/plain": [
       "<matplotlib.figure.Figure at 0x121c9de80>"
      ]
     },
     "metadata": {},
     "output_type": "display_data"
    }
   ],
   "source": [
    "plt.plot(params, weights[:, 0], label='petal lengh')\n",
    "plt.plot(params, weights[:, 1], label='petal width', linestyle='--')\n",
    "plt.ylabel('weight corfficient')\n",
    "plt.xlabel('C')\n",
    "plt.legend(loc='upper left')\n",
    "plt.xscale('log')\n",
    "plt.show()"
   ]
  },
  {
   "cell_type": "markdown",
   "metadata": {},
   "source": [
    "减小c值,也就是增大正则系数的值,正则化威力增强"
   ]
  },
  {
   "cell_type": "markdown",
   "metadata": {},
   "source": [
    "从上图看出随着C的减小,权重系数也减小"
   ]
  },
  {
   "cell_type": "code",
   "execution_count": null,
   "metadata": {
    "collapsed": true
   },
   "outputs": [],
   "source": []
  }
 ],
 "metadata": {
  "kernelspec": {
   "display_name": "Python 3",
   "language": "python",
   "name": "python3"
  },
  "language_info": {
   "codemirror_mode": {
    "name": "ipython",
    "version": 3
   },
   "file_extension": ".py",
   "mimetype": "text/x-python",
   "name": "python",
   "nbconvert_exporter": "python",
   "pygments_lexer": "ipython3",
   "version": "3.6.2"
  }
 },
 "nbformat": 4,
 "nbformat_minor": 2
}
