{
    "cells": [
        {
            "cell_type": "code",
            "execution_count": 106,
            "metadata": {
                "collapsed": true
            },
            "outputs": [],
            "source": [
                "import pandas as pd\n",
                "import numpy as np"
            ]
        },
        {
            "cell_type": "markdown",
            "metadata": {},
            "source": [
                "## wine数据集"
            ]
        },
        {
            "cell_type": "code",
            "execution_count": 107,
            "metadata": {
                "collapsed": true
            },
            "outputs": [],
            "source": [
                "df_wine = pd.read_csv(\"https://archive.ics.uci.edu/ml/machine-learning-databases/wine/wine.data\", header=None)"
            ]
        },
        {
            "cell_type": "code",
            "execution_count": 108,
            "metadata": {},
            "outputs": [
                {
                    "data": {
                        "text/html": [
                            "<div>\n",
                            "<style>\n",
                            "    .dataframe thead tr:only-child th {\n",
                            "        text-align: right;\n",
                            "    }\n",
                            "\n",
                            "    .dataframe thead th {\n",
                            "        text-align: left;\n",
                            "    }\n",
                            "\n",
                            "    .dataframe tbody tr th {\n",
                            "        vertical-align: top;\n",
                            "    }\n",
                            "</style>\n",
                            "<table border=\"1\" class=\"dataframe\">\n",
                            "  <thead>\n",
                            "    <tr style=\"text-align: right;\">\n",
                            "      <th></th>\n",
                            "      <th>Class label</th>\n",
                            "      <th>Alcohol</th>\n",
                            "      <th>Malic acid</th>\n",
                            "      <th>Ash</th>\n",
                            "      <th>Alcalinity of ash</th>\n",
                            "      <th>Magnesium</th>\n",
                            "      <th>Total phenols</th>\n",
                            "      <th>Flacanoide</th>\n",
                            "      <th>Nonfiavanoid phenols</th>\n",
                            "      <th>Proanthocyanins</th>\n",
                            "      <th>Color intensity</th>\n",
                            "      <th>Hue</th>\n",
                            "      <th>OD280/OD315 of diluted wines</th>\n",
                            "      <th>Proline</th>\n",
                            "    </tr>\n",
                            "  </thead>\n",
                            "  <tbody>\n",
                            "    <tr>\n",
                            "      <th>0</th>\n",
                            "      <td>1</td>\n",
                            "      <td>14.23</td>\n",
                            "      <td>1.71</td>\n",
                            "      <td>2.43</td>\n",
                            "      <td>15.6</td>\n",
                            "      <td>127</td>\n",
                            "      <td>2.80</td>\n",
                            "      <td>3.06</td>\n",
                            "      <td>0.28</td>\n",
                            "      <td>2.29</td>\n",
                            "      <td>5.64</td>\n",
                            "      <td>1.04</td>\n",
                            "      <td>3.92</td>\n",
                            "      <td>1065</td>\n",
                            "    </tr>\n",
                            "    <tr>\n",
                            "      <th>1</th>\n",
                            "      <td>1</td>\n",
                            "      <td>13.20</td>\n",
                            "      <td>1.78</td>\n",
                            "      <td>2.14</td>\n",
                            "      <td>11.2</td>\n",
                            "      <td>100</td>\n",
                            "      <td>2.65</td>\n",
                            "      <td>2.76</td>\n",
                            "      <td>0.26</td>\n",
                            "      <td>1.28</td>\n",
                            "      <td>4.38</td>\n",
                            "      <td>1.05</td>\n",
                            "      <td>3.40</td>\n",
                            "      <td>1050</td>\n",
                            "    </tr>\n",
                            "    <tr>\n",
                            "      <th>2</th>\n",
                            "      <td>1</td>\n",
                            "      <td>13.16</td>\n",
                            "      <td>2.36</td>\n",
                            "      <td>2.67</td>\n",
                            "      <td>18.6</td>\n",
                            "      <td>101</td>\n",
                            "      <td>2.80</td>\n",
                            "      <td>3.24</td>\n",
                            "      <td>0.30</td>\n",
                            "      <td>2.81</td>\n",
                            "      <td>5.68</td>\n",
                            "      <td>1.03</td>\n",
                            "      <td>3.17</td>\n",
                            "      <td>1185</td>\n",
                            "    </tr>\n",
                            "    <tr>\n",
                            "      <th>3</th>\n",
                            "      <td>1</td>\n",
                            "      <td>14.37</td>\n",
                            "      <td>1.95</td>\n",
                            "      <td>2.50</td>\n",
                            "      <td>16.8</td>\n",
                            "      <td>113</td>\n",
                            "      <td>3.85</td>\n",
                            "      <td>3.49</td>\n",
                            "      <td>0.24</td>\n",
                            "      <td>2.18</td>\n",
                            "      <td>7.80</td>\n",
                            "      <td>0.86</td>\n",
                            "      <td>3.45</td>\n",
                            "      <td>1480</td>\n",
                            "    </tr>\n",
                            "    <tr>\n",
                            "      <th>4</th>\n",
                            "      <td>1</td>\n",
                            "      <td>13.24</td>\n",
                            "      <td>2.59</td>\n",
                            "      <td>2.87</td>\n",
                            "      <td>21.0</td>\n",
                            "      <td>118</td>\n",
                            "      <td>2.80</td>\n",
                            "      <td>2.69</td>\n",
                            "      <td>0.39</td>\n",
                            "      <td>1.82</td>\n",
                            "      <td>4.32</td>\n",
                            "      <td>1.04</td>\n",
                            "      <td>2.93</td>\n",
                            "      <td>735</td>\n",
                            "    </tr>\n",
                            "  </tbody>\n",
                            "</table>\n",
                            "</div>"
                        ],
                        "text/plain": [
                            "   Class label  Alcohol  Malic acid   Ash  Alcalinity of ash  Magnesium  \\\n",
                            "0            1    14.23        1.71  2.43               15.6        127   \n",
                            "1            1    13.20        1.78  2.14               11.2        100   \n",
                            "2            1    13.16        2.36  2.67               18.6        101   \n",
                            "3            1    14.37        1.95  2.50               16.8        113   \n",
                            "4            1    13.24        2.59  2.87               21.0        118   \n",
                            "\n",
                            "   Total phenols  Flacanoide  Nonfiavanoid phenols  Proanthocyanins  \\\n",
                            "0           2.80        3.06                  0.28             2.29   \n",
                            "1           2.65        2.76                  0.26             1.28   \n",
                            "2           2.80        3.24                  0.30             2.81   \n",
                            "3           3.85        3.49                  0.24             2.18   \n",
                            "4           2.80        2.69                  0.39             1.82   \n",
                            "\n",
                            "   Color intensity   Hue  OD280/OD315 of diluted wines  Proline  \n",
                            "0             5.64  1.04                          3.92     1065  \n",
                            "1             4.38  1.05                          3.40     1050  \n",
                            "2             5.68  1.03                          3.17     1185  \n",
                            "3             7.80  0.86                          3.45     1480  \n",
                            "4             4.32  1.04                          2.93      735  "
                        ]
                    },
                    "execution_count": 108,
                    "metadata": {},
                    "output_type": "execute_result"
                }
            ],
            "source": [
                "df_wine.columns = [\"Class label\", \"Alcohol\", \"Malic acid\", \"Ash\", \"Alcalinity of ash\", \"Magnesium\", \"Total phenols\", \"Flacanoide\",\n",
                "                   \"Nonfiavanoid phenols\", \"Proanthocyanins\", \"Color intensity\", 'Hue', 'OD280/OD315 of diluted wines', 'Proline']\n",
                "df_wine.head()"
            ]
        },
        {
            "cell_type": "code",
            "execution_count": 109,
            "metadata": {},
            "outputs": [
                {
                    "name": "stdout",
                    "output_type": "stream",
                    "text": [
                        "Class labels [1 2 3]\n"
                    ]
                }
            ],
            "source": [
                "# 查看葡萄酒的类别,一共有三种\n",
                "print(\"Class labels\", np.unique(df_wine['Class label']))"
            ]
        },
        {
            "cell_type": "markdown",
            "metadata": {},
            "source": [
                "### 分割数据集"
            ]
        },
        {
            "cell_type": "code",
            "execution_count": 110,
            "metadata": {
                "collapsed": true
            },
            "outputs": [],
            "source": [
                "from sklearn.model_selection import train_test_split"
            ]
        },
        {
            "cell_type": "code",
            "execution_count": 111,
            "metadata": {
                "collapsed": true
            },
            "outputs": [],
            "source": [
                "# 将数据分为特征集(葡萄酒的特征)和结果集(葡萄酒的种类)\n",
                "x, y = df_wine.iloc[:, 1:].values, df_wine.iloc[:, 0].values"
            ]
        },
        {
            "cell_type": "code",
            "execution_count": 112,
            "metadata": {
                "collapsed": true
            },
            "outputs": [],
            "source": [
                "# 将数据分为训练集(70%)合测试集(30%)\n",
                "x_train, x_test, y_train, y_test = train_test_split(x, y, test_size=0.3, random_state=0)"
            ]
        },
        {
            "cell_type": "markdown",
            "metadata": {},
            "source": [
                "在分割数据集时，如果确定训练集和测试集的大小没有通用的做法，一般我们选择60:40, 70:30或者80:20。对于大数据集，90:10甚至 99:1也是比较常见的。还要注意的是，通过本地验证得到最优模型和参数时，还要在整个数据集(训练集+验证集+测试集)上训练一次，得到最终的模型。"
            ]
        },
        {
            "cell_type": "markdown",
            "metadata": {},
            "source": [
                "### 统一特征值选取范围"
            ]
        },
        {
            "cell_type": "markdown",
            "metadata": {},
            "source": [
                "#### 数据归一化"
            ]
        },
        {
            "cell_type": "code",
            "execution_count": 113,
            "metadata": {
                "collapsed": true
            },
            "outputs": [],
            "source": [
                "from sklearn.preprocessing import MinMaxScaler"
            ]
        },
        {
            "cell_type": "code",
            "execution_count": 114,
            "metadata": {
                "collapsed": true
            },
            "outputs": [],
            "source": [
                "mms = MinMaxScaler()"
            ]
        },
        {
            "cell_type": "code",
            "execution_count": 115,
            "metadata": {
                "collapsed": true
            },
            "outputs": [],
            "source": [
                "x_train_norm = mms.fit_transform(x_train)\n",
                "# 只需要fit一次,以保证使用相同的标准镜像特征缩放\n",
                "x_test_norm = mms.transform(x_test)"
            ]
        },
        {
            "cell_type": "markdown",
            "metadata": {},
            "source": [
                "#### 数据标准化"
            ]
        },
        {
            "cell_type": "code",
            "execution_count": 116,
            "metadata": {
                "collapsed": true
            },
            "outputs": [],
            "source": [
                "from sklearn.preprocessing import StandardScaler"
            ]
        },
        {
            "cell_type": "code",
            "execution_count": 117,
            "metadata": {
                "collapsed": true
            },
            "outputs": [],
            "source": [
                "stdsc = StandardScaler()"
            ]
        },
        {
            "cell_type": "code",
            "execution_count": 118,
            "metadata": {
                "collapsed": true
            },
            "outputs": [],
            "source": [
                "x_train_std = stdsc.fit_transform(x_train)"
            ]
        },
        {
            "cell_type": "code",
            "execution_count": 119,
            "metadata": {
                "collapsed": true
            },
            "outputs": [],
            "source": [
                "# StandardScaler只需要使用训练fit一次,以保证使用相同的标准镜像特征缩放\n",
                "x_test_std = stdsc.transform(x_test)"
            ]
        },
        {
            "cell_type": "markdown",
            "metadata": {},
            "source": [
                "#### L1正则化逻辑蒂斯回归应用到标准化后的wine数据集"
            ]
        },
        {
            "cell_type": "code",
            "execution_count": 120,
            "metadata": {
                "collapsed": true
            },
            "outputs": [],
            "source": [
                "from sklearn.linear_model import LogisticRegression"
            ]
        },
        {
            "cell_type": "code",
            "execution_count": 121,
            "metadata": {},
            "outputs": [
                {
                    "data": {
                        "text/plain": [
                            "LogisticRegression(C=1.0, class_weight=None, dual=False, fit_intercept=True,\n",
                            "          intercept_scaling=1, max_iter=100, multi_class='ovr', n_jobs=1,\n",
                            "          penalty='l1', random_state=None, solver='liblinear', tol=0.0001,\n",
                            "          verbose=0, warm_start=False)"
                        ]
                    },
                    "execution_count": 121,
                    "metadata": {},
                    "output_type": "execute_result"
                }
            ],
            "source": [
                "LogisticRegression(penalty='l1')"
            ]
        },
        {
            "cell_type": "code",
            "execution_count": 122,
            "metadata": {
                "collapsed": true
            },
            "outputs": [],
            "source": [
                "lr = LogisticRegression(penalty='l1', C=0.1)"
            ]
        },
        {
            "cell_type": "code",
            "execution_count": 123,
            "metadata": {},
            "outputs": [
                {
                    "data": {
                        "text/plain": [
                            "LogisticRegression(C=0.1, class_weight=None, dual=False, fit_intercept=True,\n",
                            "          intercept_scaling=1, max_iter=100, multi_class='ovr', n_jobs=1,\n",
                            "          penalty='l1', random_state=None, solver='liblinear', tol=0.0001,\n",
                            "          verbose=0, warm_start=False)"
                        ]
                    },
                    "execution_count": 123,
                    "metadata": {},
                    "output_type": "execute_result"
                }
            ],
            "source": [
                "lr.fit(x_train_std, y_train)"
            ]
        },
        {
            "cell_type": "code",
            "execution_count": 124,
            "metadata": {},
            "outputs": [
                {
                    "name": "stdout",
                    "output_type": "stream",
                    "text": [
                        "Training accuracy 0.9838709677419355\n"
                    ]
                }
            ],
            "source": [
                "print('Training accuracy', lr.score(x_train_std, y_train))"
            ]
        },
        {
            "cell_type": "code",
            "execution_count": 125,
            "metadata": {},
            "outputs": [
                {
                    "name": "stdout",
                    "output_type": "stream",
                    "text": [
                        "Test accuracy 0.9814814814814815\n"
                    ]
                }
            ],
            "source": [
                "print('Test accuracy', lr.score(x_test_std, y_test))"
            ]
        },
        {
            "cell_type": "markdown",
            "metadata": {},
            "source": [
                "模型在训练集合测试集上的准确率说明了没有过拟合,我们调用lr.intercept_(截距项)属性,只返回三个值"
            ]
        },
        {
            "cell_type": "code",
            "execution_count": 126,
            "metadata": {},
            "outputs": [
                {
                    "data": {
                        "text/plain": [
                            "array([-0.38375504, -0.15813773, -0.70039146])"
                        ]
                    },
                    "execution_count": 126,
                    "metadata": {},
                    "output_type": "execute_result"
                }
            ],
            "source": [
                "lr.intercept_"
            ]
        },
        {
            "cell_type": "code",
            "execution_count": 127,
            "metadata": {},
            "outputs": [
                {
                    "data": {
                        "text/plain": [
                            "array([[ 0.28002888,  0.        ,  0.        , -0.02781626,  0.        ,\n",
                            "         0.        ,  0.71002227,  0.        ,  0.        ,  0.        ,\n",
                            "         0.        ,  0.        ,  1.23674017],\n",
                            "       [-0.64375589, -0.06894988, -0.05717211,  0.        ,  0.        ,\n",
                            "         0.        ,  0.        ,  0.        ,  0.        , -0.92721081,\n",
                            "         0.05982638,  0.        , -0.37098934],\n",
                            "       [ 0.        ,  0.06138865,  0.        ,  0.        ,  0.        ,\n",
                            "         0.        , -0.63686388,  0.        ,  0.        ,  0.49845027,\n",
                            "        -0.35816455, -0.57049949,  0.        ]])"
                        ]
                    },
                    "execution_count": 127,
                    "metadata": {},
                    "output_type": "execute_result"
                }
            ],
            "source": [
                "# 回归系数(斜率)\n",
                "lr.coef_"
            ]
        },
        {
            "cell_type": "markdown",
            "metadata": {},
            "source": [
                "上面可以看出权重项中有很多0值,说明L1正则可以作为特征选择的一种手段,得到的模型具有鲁棒性(控制系统在一定（结构，大小）的参数摄动下，维持其它某些性能的特性)"
            ]
        },
        {
            "cell_type": "markdown",
            "metadata": {},
            "source": [
                "最后我们画出正则路径,即不同正则威力下的不同特征的权重参数"
            ]
        },
        {
            "cell_type": "code",
            "execution_count": 128,
            "metadata": {
                "collapsed": true
            },
            "outputs": [],
            "source": [
                "import matplotlib.pyplot as plt"
            ]
        },
        {
            "cell_type": "code",
            "execution_count": 129,
            "metadata": {
                "collapsed": true
            },
            "outputs": [],
            "source": [
                "fig = plt.figure()"
            ]
        },
        {
            "cell_type": "code",
            "execution_count": 130,
            "metadata": {},
            "outputs": [
                {
                    "data": {
                        "image/png": "[encoded data removed]",
                        "text/plain": [
                            "<matplotlib.figure.Figure at 0x1156e81d0>"
                        ]
                    },
                    "metadata": {},
                    "output_type": "display_data"
                }
            ],
            "source": [
                "ax = plt.subplot(111)\n",
                "colors = ['blue', 'green', 'red', 'cyan', 'magenta', 'yellow', 'black', 'pink', 'lightgreen', 'lightblue',\n",
                "         'gray', 'indigo', 'orange']\n",
                "weights, params = [], []\n",
                "\n",
                "for c in np.arange(-4, 6, dtype=float):\n",
                "    lr = LogisticRegression(penalty='l1', C=10**c, random_state=0)\n",
                "    lr.fit(x_train_std, y_train)\n",
                "    weights.append(lr.coef_[1])\n",
                "    params.append(10**c)\n",
                "    \n",
                "weights = np.array(weights)\n",
                "for column, color in zip(range(weights.shape[1]), colors):\n",
                "    plt.plot(params, weights[:, column], label=df_wine.columns[column+1], color=color)\n",
                "    \n",
                "plt.axhline(0, color='black', linestyle='--', linewidth=3)\n",
                "plt.xlim([10**(-5), 10**5])\n",
                "plt.xlabel('C')\n",
                "plt.ylabel('weight coefficient')\n",
                "plt.xscale('log')\n",
                "plt.legend('upper left')\n",
                "ax.legend(loc='upper center', bbox_to_anchor=(1.38, 1.03), ncol=1, fancybox=True)\n",
                "plt.show()"
            ]
        },
        {
            "cell_type": "markdown",
            "metadata": {},
            "source": [
                "#### 实现评价函数(SBS)"
            ]
        },
        {
            "cell_type": "code",
            "execution_count": 131,
            "metadata": {
                "collapsed": true
            },
            "outputs": [],
            "source": [
                "from sklearn.base import clone\n",
                "from itertools import combinations\n",
                "import numpy as np\n",
                "from sklearn.model_selection import train_test_split\n",
                "from sklearn.metrics import accuracy_score"
            ]
        },
        {
            "cell_type": "code",
            "execution_count": 132,
            "metadata": {},
            "outputs": [],
            "source": [
                "class SBS():\n",
                "    def __init__(self, estimator, k_features, scoring=accuracy_score, test_size=0.25, random_state=1):\n",
                "        self.scoring = scoring\n",
                "        self.estimator = clone(estimator)\n",
                "        self.k_features = k_features\n",
                "        self.test_size = test_size\n",
                "        self.random_state = random_state\n",
                "    \n",
                "    def fit(self, x, y):\n",
                "        x_train, x_test, y_train, y_test = train_test_split(x, y, test_size=self.test_size, random_state=self.random_state)\n",
                "        dim = x_train.shape[1]\n",
                "        self.indices_ = tuple(range(dim))\n",
                "        self.subsets_ = [self.indices_]\n",
                "        score = self._calc_score(x_train, y_train, x_test, y_test, self.indices_)\n",
                "        self.scores_ = [score]\n",
                "        \n",
                "        while dim > self.k_features:\n",
                "            scores = []\n",
                "            subsets = []\n",
                "            \n",
                "            for p in combinations(self.indices_, r=dim-1):\n",
                "                socre = self._calc_score(x_train, y_train, x_test, y_test, p)\n",
                "                scores.append(score)\n",
                "                subsets.append(p)\n",
                "                \n",
                "            best = np.argmax(scores)\n",
                "            self.indices_ = subsets[best]\n",
                "            self.subsets_.append(self.indices_)\n",
                "            dim -= 1\n",
                "            self.scores_.append(scores[best])\n",
                "        self.k_score_ = self.scores_[-1]\n",
                "        \n",
                "        return self\n",
                "    \n",
                "    def transform(self, X):\n",
                "        return X[:, self.scores_[-1]]\n",
                "    \n",
                "    def _calc_score(self, x_train, y_train, x_test, y_test, indices):\n",
                "        self.estimator.fit(x_train[:, indices], y_train)\n",
                "        y_pred = self.estimator.predict(x_test[:, indices])\n",
                "        socre = self.scoring(y_test, y_pred)\n",
                "        return socre\n",
                "    "
            ]
        },
        {
            "cell_type": "markdown",
            "metadata": {
                "collapsed": true
            },
            "source": [
                "#### 使用knn作为estimator来运行SBS算法"
            ]
        },
        {
            "cell_type": "code",
            "execution_count": 133,
            "metadata": {
                "collapsed": true
            },
            "outputs": [],
            "source": [
                "from sklearn.neighbors import KNeighborsClassifier"
            ]
        },
        {
            "cell_type": "code",
            "execution_count": 134,
            "metadata": {
                "collapsed": true
            },
            "outputs": [],
            "source": [
                "import matplotlib.pyplot as plt"
            ]
        },
        {
            "cell_type": "code",
            "execution_count": 135,
            "metadata": {
                "collapsed": true
            },
            "outputs": [],
            "source": [
                "knn = KNeighborsClassifier(n_neighbors=2)"
            ]
        },
        {
            "cell_type": "code",
            "execution_count": 136,
            "metadata": {
                "collapsed": true
            },
            "outputs": [],
            "source": [
                "sbs = SBS(knn, k_features=1)"
            ]
        },
        {
            "cell_type": "code",
            "execution_count": 137,
            "metadata": {},
            "outputs": [
                {
                    "data": {
                        "text/plain": [
                            "<__main__.SBS at 0x119a17860>"
                        ]
                    },
                    "execution_count": 137,
                    "metadata": {},
                    "output_type": "execute_result"
                }
            ],
            "source": [
                "sbs.fit(x_train_std, y_train)"
            ]
        },
        {
            "cell_type": "code",
            "execution_count": 142,
            "metadata": {},
            "outputs": [],
            "source": [
                "# 画出每个最优特征自己在验证集上分类的准确率\n",
                "k_feat = [len(k) for k in sbs.subsets_]"
            ]
        },
        {
            "cell_type": "code",
            "execution_count": 139,
            "metadata": {},
            "outputs": [
                {
                    "data": {
                        "image/png": "[encoded data removed]",
                        "text/plain": [
                            "<matplotlib.figure.Figure at 0x11626dc50>"
                        ]
                    },
                    "metadata": {},
                    "output_type": "display_data"
                }
            ],
            "source": [
                "plt.plot(k_feat, sbs.scores_, marker='o')\n",
                "plt.ylim([0.7, 1.1])\n",
                "plt.ylabel('Accuracy')\n",
                "plt.xlabel('Number of features')\n",
                "plt.grid()\n",
                "plt.show()"
            ]
        },
        {
            "cell_type": "markdown",
            "metadata": {},
            "source": [
                "### 使用随机森林评估特征重要性"
            ]
        },
        {
            "cell_type": "code",
            "execution_count": 143,
            "metadata": {
                "collapsed": true
            },
            "outputs": [],
            "source": [
                "from sklearn.ensemble import RandomForestClassifier"
            ]
        },
        {
            "cell_type": "code",
            "execution_count": 144,
            "metadata": {
                "collapsed": true
            },
            "outputs": [],
            "source": [
                "feat_labels = df_wine.columns[1:]\n",
                "forest = RandomForestClassifier(n_estimators=10000, random_state=0, n_jobs=-1)"
            ]
        },
        {
            "cell_type": "code",
            "execution_count": 145,
            "metadata": {},
            "outputs": [
                {
                    "data": {
                        "text/plain": [
                            "RandomForestClassifier(bootstrap=True, class_weight=None, criterion='gini',\n",
                            "            max_depth=None, max_features='auto', max_leaf_nodes=None,\n",
                            "            min_impurity_decrease=0.0, min_impurity_split=None,\n",
                            "            min_samples_leaf=1, min_samples_split=2,\n",
                            "            min_weight_fraction_leaf=0.0, n_estimators=10000, n_jobs=-1,\n",
                            "            oob_score=False, random_state=0, verbose=0, warm_start=False)"
                        ]
                    },
                    "execution_count": 145,
                    "metadata": {},
                    "output_type": "execute_result"
                }
            ],
            "source": [
                "forest.fit(x_train, y_train)"
            ]
        },
        {
            "cell_type": "code",
            "execution_count": 146,
            "metadata": {
                "collapsed": true
            },
            "outputs": [],
            "source": [
                "importances = forest.feature_importances_"
            ]
        },
        {
            "cell_type": "code",
            "execution_count": 147,
            "metadata": {
                "collapsed": true
            },
            "outputs": [],
            "source": [
                "indices = np.argsort(importances)[::-1]"
            ]
        },
        {
            "cell_type": "code",
            "execution_count": 149,
            "metadata": {},
            "outputs": [
                {
                    "name": "stdout",
                    "output_type": "stream",
                    "text": [
                        " 1) Alcohol                        0.182483\n",
                        " 2) Malic acid                     0.158610\n",
                        " 3) Ash                            0.150948\n",
                        " 4) Alcalinity of ash              0.131987\n",
                        " 5) Magnesium                      0.106589\n",
                        " 6) Total phenols                  0.078243\n",
                        " 7) Flacanoide                     0.060718\n",
                        " 8) Nonfiavanoid phenols           0.032033\n",
                        " 9) Proanthocyanins                0.025400\n",
                        "10) Color intensity                0.022351\n",
                        "11) Hue                            0.022078\n",
                        "12) OD280/OD315 of diluted wines   0.014645\n",
                        "13) Proline                        0.013916\n"
                    ]
                }
            ],
            "source": [
                "for f in range(x_train.shape[1]):\n",
                "    print(\"%2d) %-*s %f\" % (f+1, 30, feat_labels[f], importances[indices[f]]))"
            ]
        },
        {
            "cell_type": "code",
            "execution_count": 160,
            "metadata": {},
            "outputs": [
                {
                    "data": {
                        "image/png": "[encoded data removed]",
                        "text/plain": [
                            "<matplotlib.figure.Figure at 0x11aba1c88>"
                        ]
                    },
                    "metadata": {},
                    "output_type": "display_data"
                },
                {
                    "data": {
                        "text/plain": [
                            "(124, 13)"
                        ]
                    },
                    "execution_count": 160,
                    "metadata": {},
                    "output_type": "execute_result"
                }
            ],
            "source": [
                "plt.title('Feature Importance')\n",
                "plt.bar(range(x_train.shape[1]),\n",
                "       importances[indices],\n",
                "       color='lightblue',\n",
                "       align='center')\n",
                "# np.shape返回矩阵的行列数,np.shape[1]表示返回矩阵\n",
                "plt.xticks(range(x_train.shape[1]),\n",
                "         feat_labels, rotation=90)\n",
                "plt.xlim([-1, x_train.shape[1]])\n",
                "plt.tight_layout() # tight_layout会自动调整子图参数，使之填充整个图像区域\n",
                "plt.show()"
            ]
        },
        {
            "cell_type": "code",
            "execution_count": null,
            "metadata": {
                "collapsed": true
            },
            "outputs": [],
            "source": []
        }
    ],
    "metadata": {
        "kernelspec": {
            "display_name": "Python 3",
            "language": "python",
            "name": "python3"
        },
        "language_info": {
            "codemirror_mode": {
                "name": "ipython",
                "version": 3
            },
            "file_extension": ".py",
            "mimetype": "text/x-python",
            "name": "python",
            "nbconvert_exporter": "python",
            "pygments_lexer": "ipython3",
            "version": "3.6.2"
        }
    },
    "nbformat": 4,
    "nbformat_minor": 2
}